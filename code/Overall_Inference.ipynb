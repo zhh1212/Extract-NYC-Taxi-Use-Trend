{
 "cells": [
  {
   "cell_type": "code",
   "execution_count": 1,
   "metadata": {},
   "outputs": [],
   "source": [
    "# import sklearn\n",
    "import pandas as pd\n",
    "import numpy as np\n",
    "import seaborn as sns\n",
    "import matplotlib.pyplot as plt\n",
    "# import sklearn\n",
    "import warnings\n",
    "warnings.filterwarnings(\"ignore\")"
   ]
  },
  {
   "cell_type": "code",
   "execution_count": 2,
   "metadata": {},
   "outputs": [
    {
     "name": "stderr",
     "output_type": "stream",
     "text": [
      "21/11/18 23:52:16 WARN Utils: Your hostname, DESKTOP-NEDG45B resolves to a loopback address: 127.0.1.1; using 172.26.202.64 instead (on interface eth0)\n",
      "21/11/18 23:52:16 WARN Utils: Set SPARK_LOCAL_IP if you need to bind to another address\n",
      "21/11/18 23:52:17 WARN NativeCodeLoader: Unable to load native-hadoop library for your platform... using builtin-java classes where applicable\n",
      "Using Spark's default log4j profile: org/apache/spark/log4j-defaults.properties\n",
      "Setting default log level to \"WARN\".\n",
      "To adjust logging level use sc.setLogLevel(newLevel). For SparkR, use setLogLevel(newLevel).\n"
     ]
    }
   ],
   "source": [
    "from pyspark.sql import SparkSession\n",
    "from pyspark.sql.types import *\n",
    "from pyspark.sql.functions import col\n",
    "import pyspark.sql.functions as F\n",
    "from pyspark.sql.functions import sum, mean\n",
    "\n",
    "spark = SparkSession.builder.getOrCreate()\n",
    "spark.conf.set('spark.sql.execution.arrow.pyspark.enabled', True)\n",
    "spark.conf.set('spark.sql.repl.eagerEval.enabled', True)\n"
   ]
  },
  {
   "cell_type": "code",
   "execution_count": 3,
   "metadata": {},
   "outputs": [
    {
     "name": "stderr",
     "output_type": "stream",
     "text": []
    },
    {
     "data": {
      "text/html": [
       "<table border='1'>\n",
       "<tr><th>PULocationID</th><th>Month</th><th>weekday</th><th>hour</th><th>sum_fare_amount</th><th>avg_fare_amount</th><th>total_trip_distance</th><th>total_duration</th><th>count</th></tr>\n",
       "<tr><td>113</td><td>11</td><td>6</td><td>0</td><td>7854.2</td><td>12.486804451510334</td><td>1809.3000000000002</td><td>515852</td><td>629.0</td></tr>\n",
       "<tr><td>189</td><td>11</td><td>6</td><td>1</td><td>77.0</td><td>12.833333333333334</td><td>19.83</td><td>4512</td><td>6.0</td></tr>\n",
       "<tr><td>87</td><td>11</td><td>6</td><td>5</td><td>2186.5</td><td>23.766304347826086</td><td>707.8000000000001</td><td>83505</td><td>92.0</td></tr>\n",
       "<tr><td>209</td><td>11</td><td>6</td><td>5</td><td>560.5</td><td>28.025</td><td>175.60999999999999</td><td>104845</td><td>20.0</td></tr>\n",
       "<tr><td>227</td><td>11</td><td>6</td><td>7</td><td>26.5</td><td>13.25</td><td>7.58</td><td>1428</td><td>2.0</td></tr>\n",
       "<tr><td>247</td><td>11</td><td>6</td><td>7</td><td>85.0</td><td>17.0</td><td>24.6</td><td>5025</td><td>5.0</td></tr>\n",
       "<tr><td>170</td><td>11</td><td>6</td><td>13</td><td>25239.4</td><td>12.870678225395208</td><td>4545.490000000001</td><td>2356674</td><td>1961.0</td></tr>\n",
       "<tr><td>145</td><td>11</td><td>6</td><td>13</td><td>1321.5</td><td>30.732558139534884</td><td>145.97</td><td>70626</td><td>43.0</td></tr>\n",
       "<tr><td>35</td><td>11</td><td>6</td><td>13</td><td>40.0</td><td>13.333333333333334</td><td>10.600000000000001</td><td>2349</td><td>3.0</td></tr>\n",
       "<tr><td>140</td><td>11</td><td>6</td><td>16</td><td>12798.499999999998</td><td>11.336138175376437</td><td>2402.780000000001</td><td>1143956</td><td>1129.0</td></tr>\n",
       "<tr><td>10</td><td>11</td><td>6</td><td>16</td><td>3598.5</td><td>50.683098591549296</td><td>1033.26</td><td>246237</td><td>71.0</td></tr>\n",
       "<tr><td>28</td><td>11</td><td>6</td><td>17</td><td>337.0</td><td>48.142857142857146</td><td>82.83</td><td>16504</td><td>7.0</td></tr>\n",
       "<tr><td>134</td><td>11</td><td>6</td><td>20</td><td>185.5</td><td>37.1</td><td>37.04</td><td>4015</td><td>5.0</td></tr>\n",
       "<tr><td>127</td><td>11</td><td>6</td><td>21</td><td>108.8</td><td>15.542857142857143</td><td>19.09</td><td>3807</td><td>7.0</td></tr>\n",
       "<tr><td>10</td><td>11</td><td>6</td><td>21</td><td>605.0</td><td>50.416666666666664</td><td>175.94</td><td>23581</td><td>12.0</td></tr>\n",
       "<tr><td>166</td><td>11</td><td>6</td><td>22</td><td>2634.2</td><td>11.65575221238938</td><td>596.6300000000002</td><td>161545</td><td>226.0</td></tr>\n",
       "<tr><td>196</td><td>11</td><td>7</td><td>0</td><td>56.0</td><td>14.0</td><td>15.799999999999999</td><td>2826</td><td>4.0</td></tr>\n",
       "<tr><td>261</td><td>11</td><td>7</td><td>6</td><td>790.0</td><td>21.35135135135135</td><td>232.23</td><td>36018</td><td>37.0</td></tr>\n",
       "<tr><td>181</td><td>11</td><td>7</td><td>6</td><td>255.5</td><td>25.55</td><td>76.94</td><td>10447</td><td>10.0</td></tr>\n",
       "<tr><td>129</td><td>11</td><td>7</td><td>7</td><td>351.5</td><td>13.018518518518519</td><td>91.91999999999999</td><td>21251</td><td>27.0</td></tr>\n",
       "</table>\n"
      ],
      "text/plain": [
       "+------------+-----+-------+----+------------------+------------------+-------------------+--------------+------+\n",
       "|PULocationID|Month|weekday|hour|   sum_fare_amount|   avg_fare_amount|total_trip_distance|total_duration| count|\n",
       "+------------+-----+-------+----+------------------+------------------+-------------------+--------------+------+\n",
       "|         113|   11|      6|   0|            7854.2|12.486804451510334| 1809.3000000000002|        515852| 629.0|\n",
       "|         189|   11|      6|   1|              77.0|12.833333333333334|              19.83|          4512|   6.0|\n",
       "|          87|   11|      6|   5|            2186.5|23.766304347826086|  707.8000000000001|         83505|  92.0|\n",
       "|         209|   11|      6|   5|             560.5|            28.025| 175.60999999999999|        104845|  20.0|\n",
       "|         227|   11|      6|   7|              26.5|             13.25|               7.58|          1428|   2.0|\n",
       "|         247|   11|      6|   7|              85.0|              17.0|               24.6|          5025|   5.0|\n",
       "|         170|   11|      6|  13|           25239.4|12.870678225395208|  4545.490000000001|       2356674|1961.0|\n",
       "|         145|   11|      6|  13|            1321.5|30.732558139534884|             145.97|         70626|  43.0|\n",
       "|          35|   11|      6|  13|              40.0|13.333333333333334| 10.600000000000001|          2349|   3.0|\n",
       "|         140|   11|      6|  16|12798.499999999998|11.336138175376437|  2402.780000000001|       1143956|1129.0|\n",
       "|          10|   11|      6|  16|            3598.5|50.683098591549296|            1033.26|        246237|  71.0|\n",
       "|          28|   11|      6|  17|             337.0|48.142857142857146|              82.83|         16504|   7.0|\n",
       "|         134|   11|      6|  20|             185.5|              37.1|              37.04|          4015|   5.0|\n",
       "|         127|   11|      6|  21|             108.8|15.542857142857143|              19.09|          3807|   7.0|\n",
       "|          10|   11|      6|  21|             605.0|50.416666666666664|             175.94|         23581|  12.0|\n",
       "|         166|   11|      6|  22|            2634.2| 11.65575221238938|  596.6300000000002|        161545| 226.0|\n",
       "|         196|   11|      7|   0|              56.0|              14.0| 15.799999999999999|          2826|   4.0|\n",
       "|         261|   11|      7|   6|             790.0| 21.35135135135135|             232.23|         36018|  37.0|\n",
       "|         181|   11|      7|   6|             255.5|             25.55|              76.94|         10447|  10.0|\n",
       "|         129|   11|      7|   7|             351.5|13.018518518518519|  91.91999999999999|         21251|  27.0|\n",
       "+------------+-----+-------+----+------------------+------------------+-------------------+--------------+------+"
      ]
     },
     "execution_count": 3,
     "metadata": {},
     "output_type": "execute_result"
    }
   ],
   "source": [
    "sdf = spark.read.parquet('../data/aggregated_results1.parquet/')\n",
    "\n",
    "# it takes too long to \"groupby\" first and then 'count', 'group by' again and then 'aggregate'\n",
    "# so I choose to derive the number of instances for each group from the aggregated results\n",
    "sdf = sdf.withColumn(\"count\", F.round(col(\"sum_fare_amount\") / col(\"avg_fare_amount\"),0))\n",
    "\n",
    "sdf.limit(20)"
   ]
  },
  {
   "cell_type": "code",
   "execution_count": 4,
   "metadata": {},
   "outputs": [
    {
     "name": "stderr",
     "output_type": "stream",
     "text": []
    },
    {
     "data": {
      "text/plain": [
       "360640"
      ]
     },
     "execution_count": 4,
     "metadata": {},
     "output_type": "execute_result"
    }
   ],
   "source": [
    "sdf.count()"
   ]
  },
  {
   "cell_type": "code",
   "execution_count": 5,
   "metadata": {},
   "outputs": [
    {
     "name": "stderr",
     "output_type": "stream",
     "text": []
    },
    {
     "data": {
      "image/png": "[encoded data removed]",
      "text/plain": [
       "<Figure size 1080x432 with 2 Axes>"
      ]
     },
     "metadata": {
      "needs_background": "light"
     },
     "output_type": "display_data"
    }
   ],
   "source": [
    "pu_location_sdf = sdf.groupBy(\"PULocationID\").agg(\n",
    "                    sum(\"count\").alias(\"num_trips\"),\n",
    "                    sum(\"total_duration\").alias(\"total_duration\"),\n",
    "                    sum('total_trip_distance').alias('total_trip_distance'),\n",
    "                    sum('sum_fare_amount').alias(\"sum_fare_amount\"))\n",
    "\n",
    "# further drive and extract data given the aggregated results\n",
    "pu_location_sdf = pu_location_sdf.withColumn(\"avg_time\", col(\"total_duration\") / col(\"num_trips\")) \\\n",
    "        .withColumn(\"avg_trip_distance\", col(\"total_trip_distance\") / col(\"num_trips\")) \\\n",
    "        .withColumn(\"avg_fare_amount\", col(\"sum_fare_amount\") / col(\"num_trips\")) \\\n",
    "        .withColumn(\"avg_fare_amount_per_30mins\", col(\"sum_fare_amount\") * 1800 / col(\"total_duration\"))\n",
    "# add a column to indicate profitability of a zone\n",
    "\n",
    "pu_location_sdf = pu_location_sdf.drop(\"total_duration\", \"total_trip_distance\",\"sum_fare_amount\")\n",
    "\n",
    "# pu_location_sdf.limit(5)\n",
    "\n",
    "pu_location_df = pu_location_sdf.toPandas()\n",
    "# filtered out those zones which has less than 50 trips throughout entire 2017\n",
    "pu_location_df = pu_location_df.loc[pu_location_df['num_trips']>50]\n",
    "pu_location_df[\"log_num_trips\"] = np.log(pu_location_df[\"num_trips\"])\n",
    "\n",
    "\n",
    "# have a look at the distribution\n",
    "fig, (ax1, ax2) = plt.subplots(nrows=1, ncols=2, figsize=(15, 6))\n",
    "sns.histplot(pu_location_df['num_trips'],bins=20, ax=ax1).set_title(\"distribution for number of trips\")\n",
    "sns.histplot(pu_location_df['log_num_trips'],bins=20, ax=ax2).set_title(\"log-transformed distribution\")\n",
    "plt.savefig(\"../plots/dist_compare.png\")"
   ]
  },
  {
   "cell_type": "code",
   "execution_count": 6,
   "metadata": {},
   "outputs": [],
   "source": [
    "import geopandas as gpd\n",
    "\n",
    "'''\n",
    "code in this section made reference to Akira's tutorial\n",
    "https://github.com/akiratwang/MAST30034_Python/blob/main/tutorials/Lab2_Python.ipynb\n",
    "\n",
    "'''\n",
    "\n",
    "\n",
    "sf = gpd.read_file(\"../data/taxi_zones/taxi_zones.shp\")\n",
    "zone = pd.read_csv(\"../data/taxi_zones/taxi+_zone_lookup.csv\")\n",
    "\n",
    "sf['geometry'] = sf['geometry'].to_crs(\"+proj=longlat +ellps=WGS84 +datum=WGS84 +no_defs\")\n",
    "\n",
    "gdf = gpd.GeoDataFrame(pd.merge(pu_location_df, sf, left_on='PULocationID', right_on='LocationID')) \\\n",
    "                        .drop('LocationID',axis=1)\n"
   ]
  },
  {
   "cell_type": "markdown",
   "metadata": {},
   "source": [
    "## Code to generate plots are shown below"
   ]
  },
  {
   "cell_type": "code",
   "execution_count": 7,
   "metadata": {},
   "outputs": [],
   "source": [
    "import folium\n",
    "geoJSON = gdf[['PULocationID','geometry','zone']].to_json()\n",
    "# function to creat geo map\n",
    "def get_geomap(field, legend):\n",
    "    m = folium.Map(location=[40.66, -73.94], zoom_start=10, tiles=None)\n",
    "    folium.TileLayer('CartoDB positron',name=\"Light Map\",control=False).add_to(m) # hide the tiles\n",
    "\n",
    "    folium.Choropleth(\n",
    "        geo_data=geoJSON,\n",
    "        name=\"choropleth\",\n",
    "        data=gdf,\n",
    "        columns=[\"PULocationID\", field],\n",
    "        key_on=\"properties.PULocationID\",\n",
    "        fill_color=\"OrRd\",\n",
    "        fill_opacity=0.9,\n",
    "        line_opacity=0.5,\n",
    "        legend_name= legend,\n",
    "    ).add_to(m)\n",
    "\n",
    "    # add labels for each zone as another layer to the map so that the map becomes interactive now\n",
    "    # specify the setting\n",
    "    style_function = lambda x: {'fillColor': '#ffffff', \n",
    "                                'color':'#000000', \n",
    "                                'fillOpacity': 0.1, \n",
    "                                'weight': 0.1}\n",
    "    highlight_function = lambda x: {'fillColor': '#000000', \n",
    "                                    'color':'#000000', \n",
    "                                    'fillOpacity': 0.50, \n",
    "                                    'weight': 0.1}\n",
    "    labels = folium.features.GeoJson(\n",
    "        gdf,\n",
    "        style_function=style_function, \n",
    "        control=False,\n",
    "        highlight_function=highlight_function, \n",
    "        tooltip=folium.features.GeoJsonTooltip(\n",
    "            fields=['zone',field],\n",
    "            aliases=['District: ',field],\n",
    "            style=(\"background-color: white; color: #333333; font-family: arial; font-size: 10px; padding: 8px;\") \n",
    "        )\n",
    "    )\n",
    "    m.add_child(labels)\n",
    "    m.keep_in_front(labels)\n",
    "    folium.LayerControl().add_to(m)\n",
    "    fpth = \"../plots/\" + field + \".html\"\n",
    "    print(fpth)\n",
    "    m.save(fpth)\n",
    "\n"
   ]
  },
  {
   "cell_type": "code",
   "execution_count": 8,
   "metadata": {},
   "outputs": [
    {
     "name": "stdout",
     "output_type": "stream",
     "text": [
      "../plots/log_num_trips.html\n"
     ]
    }
   ],
   "source": [
    "# plot for number of trips at each zone\n",
    "get_geomap(\"log_num_trips\", \"log(# trips)\")"
   ]
  },
  {
   "cell_type": "code",
   "execution_count": 9,
   "metadata": {},
   "outputs": [
    {
     "data": {
      "text/html": [
       "<div>\n",
       "<style scoped>\n",
       "    .dataframe tbody tr th:only-of-type {\n",
       "        vertical-align: middle;\n",
       "    }\n",
       "\n",
       "    .dataframe tbody tr th {\n",
       "        vertical-align: top;\n",
       "    }\n",
       "\n",
       "    .dataframe thead th {\n",
       "        text-align: right;\n",
       "    }\n",
       "</style>\n",
       "<table border=\"1\" class=\"dataframe\">\n",
       "  <thead>\n",
       "    <tr style=\"text-align: right;\">\n",
       "      <th></th>\n",
       "      <th>PULocationID</th>\n",
       "      <th>num_trips</th>\n",
       "      <th>avg_time</th>\n",
       "      <th>avg_trip_distance</th>\n",
       "      <th>avg_fare_amount</th>\n",
       "      <th>avg_fare_amount_per_30mins</th>\n",
       "      <th>log_num_trips</th>\n",
       "    </tr>\n",
       "  </thead>\n",
       "  <tbody>\n",
       "    <tr>\n",
       "      <th>0</th>\n",
       "      <td>148</td>\n",
       "      <td>1020468.0</td>\n",
       "      <td>1127.221377</td>\n",
       "      <td>2.912403</td>\n",
       "      <td>12.648024</td>\n",
       "      <td>20.196959</td>\n",
       "      <td>13.835772</td>\n",
       "    </tr>\n",
       "    <tr>\n",
       "      <th>1</th>\n",
       "      <td>243</td>\n",
       "      <td>14535.0</td>\n",
       "      <td>1195.222016</td>\n",
       "      <td>4.051180</td>\n",
       "      <td>18.646323</td>\n",
       "      <td>28.081294</td>\n",
       "      <td>9.584315</td>\n",
       "    </tr>\n",
       "    <tr>\n",
       "      <th>2</th>\n",
       "      <td>31</td>\n",
       "      <td>471.0</td>\n",
       "      <td>1824.131635</td>\n",
       "      <td>6.571932</td>\n",
       "      <td>28.230042</td>\n",
       "      <td>27.856584</td>\n",
       "      <td>6.154858</td>\n",
       "    </tr>\n",
       "    <tr>\n",
       "      <th>3</th>\n",
       "      <td>137</td>\n",
       "      <td>980845.0</td>\n",
       "      <td>918.071740</td>\n",
       "      <td>2.270963</td>\n",
       "      <td>10.862071</td>\n",
       "      <td>21.296515</td>\n",
       "      <td>13.796170</td>\n",
       "    </tr>\n",
       "    <tr>\n",
       "      <th>4</th>\n",
       "      <td>251</td>\n",
       "      <td>107.0</td>\n",
       "      <td>2464.457944</td>\n",
       "      <td>10.868879</td>\n",
       "      <td>48.037944</td>\n",
       "      <td>35.086133</td>\n",
       "      <td>4.672829</td>\n",
       "    </tr>\n",
       "  </tbody>\n",
       "</table>\n",
       "</div>"
      ],
      "text/plain": [
       "   PULocationID  num_trips     avg_time  avg_trip_distance  avg_fare_amount  \\\n",
       "0           148  1020468.0  1127.221377           2.912403        12.648024   \n",
       "1           243    14535.0  1195.222016           4.051180        18.646323   \n",
       "2            31      471.0  1824.131635           6.571932        28.230042   \n",
       "3           137   980845.0   918.071740           2.270963        10.862071   \n",
       "4           251      107.0  2464.457944          10.868879        48.037944   \n",
       "\n",
       "   avg_fare_amount_per_30mins  log_num_trips  \n",
       "0                   20.196959      13.835772  \n",
       "1                   28.081294       9.584315  \n",
       "2                   27.856584       6.154858  \n",
       "3                   21.296515      13.796170  \n",
       "4                   35.086133       4.672829  "
      ]
     },
     "execution_count": 9,
     "metadata": {},
     "output_type": "execute_result"
    }
   ],
   "source": [
    "pu_location_df.head()"
   ]
  },
  {
   "cell_type": "code",
   "execution_count": 10,
   "metadata": {},
   "outputs": [
    {
     "name": "stdout",
     "output_type": "stream",
     "text": [
      "../plots/avg_time.html\n"
     ]
    }
   ],
   "source": [
    "# plot for average trip time, distance, fare amount and profitability for each zone \n",
    "get_geomap(\"avg_time\", \"trip_time in seconds\")"
   ]
  },
  {
   "cell_type": "code",
   "execution_count": 11,
   "metadata": {},
   "outputs": [
    {
     "name": "stdout",
     "output_type": "stream",
     "text": [
      "../plots/avg_trip_distance.html\n"
     ]
    }
   ],
   "source": [
    "get_geomap(\"avg_trip_distance\", \"average trip_distance (in miles)\")"
   ]
  },
  {
   "cell_type": "code",
   "execution_count": 12,
   "metadata": {},
   "outputs": [
    {
     "name": "stdout",
     "output_type": "stream",
     "text": [
      "../plots/avg_fare_amount.html\n"
     ]
    }
   ],
   "source": [
    "get_geomap(\"avg_fare_amount\", \"average fare amount for a single trip ($)\")"
   ]
  },
  {
   "cell_type": "code",
   "execution_count": 13,
   "metadata": {},
   "outputs": [
    {
     "name": "stdout",
     "output_type": "stream",
     "text": [
      "../plots/avg_fare_amount_per_30mins.html\n"
     ]
    }
   ],
   "source": [
    "# here we remove the trips start from Newark Airport which appears to be an outlier\n",
    "pu_location_df = pu_location_df.loc[pu_location_df[\"PULocationID\"]!=1]\n",
    "pu_location_df = pu_location_df.loc[pu_location_df[\"PULocationID\"]!=30]\n",
    "gdf = gpd.GeoDataFrame(pd.merge(pu_location_df, sf, left_on='PULocationID', right_on='LocationID')) \\\n",
    "                        .drop('LocationID',axis=1)\n",
    "geoJSON = gdf[['PULocationID','geometry','zone']].to_json()\n",
    "get_geomap(\"avg_fare_amount_per_30mins\", \"fare_income/30mins($)\")\n"
   ]
  },
  {
   "cell_type": "code",
   "execution_count": 17,
   "metadata": {},
   "outputs": [
    {
     "name": "stderr",
     "output_type": "stream",
     "text": []
    },
    {
     "data": {
      "image/png": "[encoded data removed]",
      "text/plain": [
       "<Figure size 432x288 with 1 Axes>"
      ]
     },
     "metadata": {
      "needs_background": "light"
     },
     "output_type": "display_data"
    }
   ],
   "source": [
    "month_trip_df = sdf.groupBy(\"Month\").agg(sum(\"count\").alias(\"trip_num\")) \\\n",
    "                    .toPandas().sort_values(by=\"Month\")\n",
    "\n",
    "\n",
    "ax1 = plt.plot(month_trip_df.Month, month_trip_df.trip_num, color=\"red\", Marker='o')\n",
    "title = \"Trip Frequencies of Each Month\"\n",
    "plt.xticks(month_trip_df.Month)\n",
    "plt.title(title)\n",
    "plt.ylabel(\"number of trips (in 10e6)\")\n",
    "plt.xlabel(\"Month\")\n",
    "plt.savefig(\"../plots/month_trip.png\", bbox_inches = \"tight\")\n",
    "plt.show()"
   ]
  },
  {
   "cell_type": "code",
   "execution_count": 15,
   "metadata": {},
   "outputs": [
    {
     "name": "stderr",
     "output_type": "stream",
     "text": []
    },
    {
     "data": {
      "image/png": "[encoded data removed]",
      "text/plain": [
       "<Figure size 432x288 with 1 Axes>"
      ]
     },
     "metadata": {
      "needs_background": "light"
     },
     "output_type": "display_data"
    }
   ],
   "source": [
    "weekday_trip_df = sdf.groupBy(\"weekday\").agg(sum(\"count\").alias(\"trip_num\")) \\\n",
    "                    .toPandas().sort_values(by=\"weekday\")\n",
    "\n",
    "\n",
    "ax1 = plt.plot(weekday_trip_df.weekday, weekday_trip_df.trip_num, color=\"blue\", Marker='o')\n",
    "title = \"number of trips on every day in a week\"\n",
    "plt.xticks(weekday_trip_df.weekday)\n",
    "plt.title(title)\n",
    "plt.ylabel(\"number of trips\")\n",
    "plt.xlabel(\"Weekday\")\n",
    "plt.savefig(\"../plots/weekday_trip.png\", bbox_inches = \"tight\")"
   ]
  },
  {
   "cell_type": "code",
   "execution_count": 16,
   "metadata": {},
   "outputs": [
    {
     "name": "stderr",
     "output_type": "stream",
     "text": []
    },
    {
     "data": {
      "image/png": "[encoded data removed]",
      "text/plain": [
       "<Figure size 432x288 with 1 Axes>"
      ]
     },
     "metadata": {
      "needs_background": "light"
     },
     "output_type": "display_data"
    }
   ],
   "source": [
    "hourly_trip_df = sdf.groupBy(\"hour\").agg(sum(\"count\").alias(\"trip_num\")) \\\n",
    "                    .toPandas().sort_values(by=\"hour\")\n",
    "\n",
    "\n",
    "ax1 = plt.plot(hourly_trip_df.hour, hourly_trip_df.trip_num, color=\"green\", Marker='o')\n",
    "title = \"number of trips each hour\"\n",
    "plt.xticks(hourly_trip_df.hour)\n",
    "plt.title(title)\n",
    "plt.ylabel(\"number of trips\")\n",
    "plt.xlabel(\"hour\")\n",
    "plt.savefig(\"../plots/hour_trip.png\", bbox_inches = \"tight\")"
   ]
  }
 ],
 "metadata": {
  "interpreter": {
   "hash": "916dbcbb3f70747c44a77c7bcd40155683ae19c65e1c03b4aa3499c5328201f1"
  },
  "kernelspec": {
   "display_name": "Python 3.8.10 64-bit",
   "name": "python3"
  },
  "language_info": {
   "codemirror_mode": {
    "name": "ipython",
    "version": 3
   },
   "file_extension": ".py",
   "mimetype": "text/x-python",
   "name": "python",
   "nbconvert_exporter": "python",
   "pygments_lexer": "ipython3",
   "version": "3.8.10"
  },
  "orig_nbformat": 4
 },
 "nbformat": 4,
 "nbformat_minor": 2
}
